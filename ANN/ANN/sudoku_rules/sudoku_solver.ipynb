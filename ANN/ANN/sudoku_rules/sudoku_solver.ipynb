{
 "cells": [
  {
   "cell_type": "code",
   "execution_count": null,
   "metadata": {},
   "outputs": [],
   "source": [
    "import dataset as d\n",
    "import model as m\n",
    "import torch\n",
    "import torch.utils.data as data\n",
    "import torch.nn as nn\n",
    "import torch.optim as optim"
   ]
  },
  {
   "cell_type": "code",
   "execution_count": null,
   "metadata": {},
   "outputs": [],
   "source": [
    "batch_size = 100\n",
    "\n",
    "train_set, test_set = d.load_dataset()\n",
    "\n",
    "constraint_mask = d.create_constraint_mask()\n",
    "\n",
    "\n",
    "dataloader_ = data.DataLoader(train_set,\n",
    "                              batch_size=batch_size,\n",
    "                              shuffle=True)\n",
    "\n",
    "dataloader_val_ = data.DataLoader(test_set,\n",
    "                                  batch_size=batch_size,\n",
    "                                  shuffle=True)\n",
    "\n",
    "loss = nn.MSELoss()\n",
    "\n",
    "sudoku_solver = m.SudokuSolver(constraint_mask)\n",
    "\n",
    "optimizer = optim.Adam(sudoku_solver.parameters(),\n",
    "                       lr=0.01,\n",
    "                       weight_decay=0.000)\n",
    "\n"
   ]
  },
  {
   "cell_type": "code",
   "execution_count": null,
   "metadata": {},
   "outputs": [],
   "source": [
    "\n",
    "epochs = 20\n",
    "loss_train = []\n",
    "loss_val = []\n",
    "for e in range(epochs):\n",
    "    for i_batch, ts_ in enumerate(dataloader_):\n",
    "        sudoku_solver.train()\n",
    "        optimizer.zero_grad()\n",
    "        pred, mat = sudoku_solver(ts_[0])\n",
    "        ls = loss(pred, ts_[1])\n",
    "        ls.backward()\n",
    "        optimizer.step()\n",
    "        print(\"Epoch \" + str(e) + \" batch \" + str(i_batch)\n",
    "              + \": \" + str(ls.item()))\n",
    "        sudoku_solver.eval()\n",
    "        with torch.no_grad():\n",
    "            n = 100\n",
    "            rows = torch.randperm(test_set.tensors[0].shape[0])[:n]\n",
    "            test_pred, test_fill = sudoku_solver(test_set.tensors[0][rows])\n",
    "            errors = test_fill.max(dim=2)[1]\\\n",
    "                != test_set.tensors[1][rows].max(dim=2)[1]\n",
    "            loss_val.append(errors.sum().item())\n",
    "            print(\"Cells in error: \" + str(errors.sum().item()))\n"
   ]
  }
 ],
 "metadata": {
  "kernelspec": {
   "display_name": "Python 3",
   "language": "python",
   "name": "python3"
  },
  "language_info": {
   "name": "python",
   "version": "3.10.12"
  }
 },
 "nbformat": 4,
 "nbformat_minor": 2
}
