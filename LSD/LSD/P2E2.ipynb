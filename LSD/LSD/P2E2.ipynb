{
  "cells": [
    {
      "cell_type": "markdown",
      "metadata": {
        "id": "1RxEf630lZ2g"
      },
      "source": [
        "# **Exercise1: ‘Data set’**"
      ]
    },
    {
      "cell_type": "markdown",
      "metadata": {
        "id": "QY-9fmWol2g6"
      },
      "source": [
        "## Part 1: Dataset Import script:\n",
        "\n",
        "Load the protein sequence data set in the .fasta format. The numbers in the square brackets correspond to class labels.\n",
        "Hint: Search for the python package ‘biopython’"
      ]
    },
    {
      "cell_type": "code",
      "execution_count": null,
      "metadata": {
        "colab": {
          "base_uri": "https://localhost:8080/"
        },
        "id": "_pwA51Qyl--z",
        "outputId": "b0d3e1f7-751a-47ac-9bdf-a08a19d4c8fa"
      },
      "outputs": [
        {
          "name": "stdout",
          "output_type": "stream",
          "text": [
            "Mounted at /content/drive/\n"
          ]
        }
      ],
      "source": [
        "#from google.colab import drive\n",
        "#drive.mount('/content/drive/')"
      ]
    },
    {
      "cell_type": "code",
      "execution_count": null,
      "metadata": {
        "colab": {
          "base_uri": "https://localhost:8080/"
        },
        "id": "GTne6LNxm55o",
        "outputId": "0618ba30-73f9-49d1-a084-581e44be6422"
      },
      "outputs": [
        {
          "name": "stdout",
          "output_type": "stream",
          "text": [
            "Collecting biopython\n",
            "  Downloading biopython-1.81-cp310-cp310-manylinux_2_17_x86_64.manylinux2014_x86_64.whl (3.1 MB)\n",
            "\u001b[?25l     \u001b[90m━━━━━━━━━━━━━━━━━━━━━━━━━━━━━━━━━━━━━━━━\u001b[0m \u001b[32m0.0/3.1 MB\u001b[0m \u001b[31m?\u001b[0m eta \u001b[36m-:--:--\u001b[0m\r\u001b[2K     \u001b[91m━\u001b[0m\u001b[91m╸\u001b[0m\u001b[90m━━━━━━━━━━━━━━━━━━━━━━━━━━━━━━━━━━━━━━\u001b[0m \u001b[32m0.1/3.1 MB\u001b[0m \u001b[31m4.4 MB/s\u001b[0m eta \u001b[36m0:00:01\u001b[0m\r\u001b[2K     \u001b[91m━━━━━━━━━━━━━━━━━━━\u001b[0m\u001b[91m╸\u001b[0m\u001b[90m━━━━━━━━━━━━━━━━━━━━\u001b[0m \u001b[32m1.5/3.1 MB\u001b[0m \u001b[31m23.0 MB/s\u001b[0m eta \u001b[36m0:00:01\u001b[0m\r\u001b[2K     \u001b[91m━━━━━━━━━━━━━━━━━━━━━━━━━━━━━━━━━━━━━━━\u001b[0m\u001b[91m╸\u001b[0m \u001b[32m3.1/3.1 MB\u001b[0m \u001b[31m36.4 MB/s\u001b[0m eta \u001b[36m0:00:01\u001b[0m\r\u001b[2K     \u001b[90m━━━━━━━━━━━━━━━━━━━━━━━━━━━━━━━━━━━━━━━━\u001b[0m \u001b[32m3.1/3.1 MB\u001b[0m \u001b[31m28.6 MB/s\u001b[0m eta \u001b[36m0:00:00\u001b[0m\n",
            "\u001b[?25hRequirement already satisfied: numpy in /usr/local/lib/python3.10/dist-packages (from biopython) (1.23.5)\n",
            "Installing collected packages: biopython\n",
            "Successfully installed biopython-1.81\n"
          ]
        }
      ],
      "source": [
        "#pip install biopython"
      ]
    },
    {
      "cell_type": "code",
      "execution_count": 1,
      "metadata": {
        "id": "rw3rOWhUGazs"
      },
      "outputs": [
        {
          "name": "stderr",
          "output_type": "stream",
          "text": [
            "/home/lilly/.local/lib/python3.10/site-packages/Bio/pairwise2.py:278: BiopythonDeprecationWarning: Bio.pairwise2 has been deprecated, and we intend to remove it in a future release of Biopython. As an alternative, please consider using Bio.Align.PairwiseAligner as a replacement, and contact the Biopython developers if you still need the Bio.pairwise2 module.\n",
            "  warnings.warn(\n"
          ]
        }
      ],
      "source": [
        "##### Imports #####\n",
        "from Bio import SeqIO\n",
        "from Bio import pairwise2\n",
        "from Bio.pairwise2 import format_alignment\n",
        "import numpy as np\n",
        "import pandas as pd\n",
        "from sklearn.cluster import AffinityPropagation\n",
        "from sklearn.metrics.cluster import normalized_mutual_info_score\n",
        "from sklearn.preprocessing import StandardScaler, MinMaxScaler\n",
        "import seaborn as sns\n",
        "import matplotlib.pyplot as plt"
      ]
    },
    {
      "cell_type": "markdown",
      "metadata": {
        "id": "8vfkJ5kksq2r"
      },
      "source": [
        "### **Data Import Function:** In this function we import the .fasta file using SeqIO module of the Bio package."
      ]
    },
    {
      "cell_type": "code",
      "execution_count": 4,
      "metadata": {
        "id": "s1RKsldXqgJo"
      },
      "outputs": [],
      "source": [
        "### Function to import fasta file\n",
        "def get_fasta_file():\n",
        "  fasta_file_path = \"./protein_sequence.fasta\"\n",
        "  sequences = SeqIO.parse(fasta_file_path, \"fasta\")\n",
        "  return sequences"
      ]
    },
    {
      "cell_type": "code",
      "execution_count": 5,
      "metadata": {
        "colab": {
          "base_uri": "https://localhost:8080/"
        },
        "id": "xoQ1pHtVlL02",
        "outputId": "da2c463a-727a-4f7b-ffde-2b0fbdbd07a7"
      },
      "outputs": [
        {
          "name": "stdout",
          "output_type": "stream",
          "text": [
            "ID: Q5AV81\n",
            "Description: Q5AV81 [16491]\n",
            "Sequence: MVRIFITGSSDGIGQAAAKVLSEQGHSVVLHARNADRAASAQEAVPGAEAVLVGDLSSIAETKALAEEANKLPPFDTVIHNAGIGYGATASQEITADKISAVFAVNTLAPYILTCLMHKPKARLLYMSSDSHYGGDESLRNITQSHSYGNTKLHDVMLANAFSRRWGNAIQVVSMHPGWVRTKMGGVMAPGALDRPARVLADWAIGKGDLARLKSGTFFTTSGPESAHPGADNVQKQEELLRICKEVSGVGVPGG\n",
            "Length: 255\n",
            "--------------------------------------\n",
            "ID: B1Y654\n",
            "Description: B1Y654 [16491]\n",
            "Sequence: MTHALDTLALNQLFTEARTHNAWRDEPVAPELLRQLHELAKWGPTAMNCCPLRVRFIVGAEARARLLPLMSEGNRAKTAAAPVIAILGRDVDFHQHMPTLAPHMAGARERFADQPAQREAMSQLNGALEAGYFILAARALGLDCGPMGGFDAAAVDAEFWAGTAVRSMIVCNLGHGDPAGLRPRAPRLDFDTACAVL\n",
            "Length: 197\n",
            "--------------------------------------\n",
            "ID: P83288\n",
            "Description: P83288 [90729]\n",
            "Sequence: MKIVLVFVCTLYLAQATYLSEQDVNEVSEFLEALDQANEAASEMVEAAETEEARDWECLPLHSSCDNDCVCCKNHHCHCPYSNVSKLEKWLPEWAKIPDALKRCSCQRNDKDGKINTCDKYKN\n",
            "Length: 123\n",
            "--------------------------------------\n",
            "ID: P39901\n",
            "Description: P39901 [3677]\n",
            "Sequence: MIALSVCWQIVRYLCRIRQMXGLNAIEHSNYLRNYMGHLRQKLEQDPARPRHFITETGIGYRFML\n",
            "Length: 65\n",
            "--------------------------------------\n",
            "ID: P81907\n",
            "Description: P81907 [4867]\n",
            "Sequence: NKTNLKQLKAEAARKKAXMQDMXTSVKVEPLXAXXNGAXRM\n",
            "Length: 41\n",
            "--------------------------------------\n"
          ]
        }
      ],
      "source": [
        "### Get FASTA file\n",
        "sequences = get_fasta_file()\n",
        "\n",
        "### Iterate over first 5 sequences and print information\n",
        "i = 1\n",
        "for seq_record in sequences:\n",
        "    if i > 5:\n",
        "      break\n",
        "    print(\"ID:\", seq_record.id)\n",
        "    print(\"Description:\", seq_record.description)\n",
        "    print(\"Sequence:\", seq_record.seq)\n",
        "    print(\"Length:\", len(seq_record))\n",
        "    print(\"--------------------------------------\")\n",
        "    i += 1"
      ]
    },
    {
      "cell_type": "markdown",
      "metadata": {
        "id": "lQBt8qLLokfV"
      },
      "source": [
        "## Part 2: Smith-Waterman Algorithm for Alignments"
      ]
    },
    {
      "cell_type": "markdown",
      "metadata": {
        "id": "0eG8GooArdMM"
      },
      "source": [
        "### **Smith-Waterman Alignment Score:**\n",
        "This function is used to get the best alignment between two sequences. First we call the pairwise2.align.localms function which performs the pairwise sequence alignment using a dynamic programming algorithm.\n",
        "\n",
        "When calling this function, we specify the match score and gap penalties. The match score indicates the compatibility between an alignment of two characters in the sequences. Highly compatible characters should be given positive scores, and incompatible ones should be given negative scores or 0. The gap penalties should be negative.\n",
        "\n",
        "Then we get the alignment for first two sequences of the dataset and for a nice printout, we use the format_alignment method.\n",
        "\n"
      ]
    },
    {
      "cell_type": "code",
      "execution_count": 6,
      "metadata": {
        "id": "lhN2TldPMSKs"
      },
      "outputs": [],
      "source": [
        "### Calculating Smith-Waterman alignment\n",
        "def smith_waterman_alignment(seq1, seq2, match_score=2, mismatch_penalty=-2, gap_open_penalty=-1, gap_extend_penalty=-0.5):\n",
        "\n",
        "    # The pairwise2.align.localms() function for local sequence alignment\n",
        "    alignments = pairwise2.align.localms(seq1, seq2, match_score, mismatch_penalty, gap_open_penalty, gap_extend_penalty)\n",
        "    best_alignment = max(alignments, key = lambda x: x.score)\n",
        "\n",
        "    return best_alignment       #Return the best alignment"
      ]
    },
    {
      "cell_type": "code",
      "execution_count": 7,
      "metadata": {
        "colab": {
          "base_uri": "https://localhost:8080/"
        },
        "id": "FmrfVFaEovpo",
        "outputId": "17a9dbcc-ed5f-424c-dedc-90bd487d5879"
      },
      "outputs": [
        {
          "name": "stdout",
          "output_type": "stream",
          "text": [
            "First sequence:  Q5AV81 :  MVRIFITGSSDGIGQAAAKVLSEQGHSVVLHARNADRAASAQEAVPGAEAVLVGDLSSIAETKALAEEANKLPPFDTVIHNAGIGYGATASQEITADKISAVFAVNTLAPYILTCLMHKPKARLLYMSSDSHYGGDESLRNITQSHSYGNTKLHDVMLANAFSRRWGNAIQVVSMHPGWVRTKMGGVMAPGALDRPARVLADWAIGKGDLARLKSGTFFTTSGPESAHPGADNVQKQEELLRICKEVSGVGVPGG\n",
            "Second sequence:  B1Y654 :  MTHALDTLALNQLFTEARTHNAWRDEPVAPELLRQLHELAKWGPTAMNCCPLRVRFIVGAEARARLLPLMSEGNRAKTAAAPVIAILGRDVDFHQHMPTLAPHMAGARERFADQPAQREAMSQLNGALEAGYFILAARALGLDCGPMGGFDAAAVDAEFWAGTAVRSMIVCNLGHGDPAGLRPRAPRLDFDTACAVL\n",
            "45 VPGAEAV---LVGDL---SSIAE-----TKALAEEANKLPPFDTVIHNAGI-G\n",
            "   | ||||    |   |   |   |     | | |  |   |    ||  | | |\n",
            "58 V-GAEA-RARL---LPLMS---EGNRAKT-A-A--A---P----VI--A-ILG\n",
            "  Score=13.5\n",
            "\n"
          ]
        }
      ],
      "source": [
        "### SeqIO.parse() function to read the FASTA file\n",
        "sequences = get_fasta_file()\n",
        "\n",
        "sequence1 = next(sequences, None)\n",
        "sequence2 = next(sequences, None)\n",
        "\n",
        "print(\"First sequence: \", sequence1.id, \": \", sequence1.seq)\n",
        "print(\"Second sequence: \", sequence2.id, \": \", sequence2.seq)\n",
        "\n",
        "### Get and print the alignment\n",
        "alignment = smith_waterman_alignment(sequence1.seq,sequence2.seq)\n",
        "print(format_alignment(*alignment))"
      ]
    },
    {
      "cell_type": "markdown",
      "metadata": {
        "id": "Y43mC2zIvHHI"
      },
      "source": [
        "# **Exercise 2: ‘Embedding’**\n",
        "\n"
      ]
    },
    {
      "cell_type": "markdown",
      "metadata": {
        "id": "nT8xZ3rEvOgX"
      },
      "source": [
        "## Part 1: Construct a pair-wise similarity matrix using the Smith-Waterman alignment"
      ]
    },
    {
      "cell_type": "markdown",
      "metadata": {
        "id": "6tWWgvYztsFa"
      },
      "source": [
        "### **Smith-Waterman alignment for Best Alignment Score:**\n",
        "Here, we create another implementation of the Smith Water Alignment to get the best alignment score instead of just the alignment. This score will be further used to create a Similarity Matrix."
      ]
    },
    {
      "cell_type": "code",
      "execution_count": null,
      "metadata": {
        "id": "HLWgyYjVQdEg"
      },
      "outputs": [],
      "source": [
        "### Calculating Smith-Waterman alignment score\n",
        "def smith_waterman_alignment_score(seq1, seq2, match_score=2, mismatch_penalty=-1, gap_open_penalty=-2, gap_extend_penalty=-0.5):\n",
        "\n",
        "    # The pairwise2.align.localms() function for local sequence alignment\n",
        "    alignments = pairwise2.align.localms(seq1, seq2, match_score, mismatch_penalty, gap_open_penalty, gap_extend_penalty)\n",
        "\n",
        "    if bool(alignments):\n",
        "      best_alignment = max(alignments, key = lambda x: x.score)\n",
        "      return best_alignment.score\n",
        "    else:\n",
        "      best_alignment = 0\n",
        "      return 0\n",
        "\n",
        "    #return best_alignment.score       #Return the best alignment"
      ]
    },
    {
      "cell_type": "markdown",
      "metadata": {
        "id": "mQEl-r54xjY_"
      },
      "source": [
        "### **Calculating Similarity Matrix:**\n",
        "In this function we calculate the similarity matrix for the sequences. The parameter num_sequences stands for the number of sequences we want to compare and get the similarity matrix for. We first initialize the matrix with zeros, and then inside a double loop, we get the best alignment score of two sequences. Then we store that value in the similarity matrix and since we assume symmetry, we fill the upper as well as lower triangular part of the matrix with the same value."
      ]
    },
    {
      "cell_type": "code",
      "execution_count": null,
      "metadata": {
        "id": "EInkraaIlHVA"
      },
      "outputs": [],
      "source": [
        "### Pair-wise similarity matrix\n",
        "def get_similarity_matrix(sequences, num_sequences):\n",
        "  k=1\n",
        "  similarity_matrix = np.zeros((num_sequences,num_sequences))\n",
        "  for i in range(num_sequences):\n",
        "      for j in range(i, num_sequences):\n",
        "          seq1 = sequences[i].seq\n",
        "          seq2 = sequences[j].seq\n",
        "          alignment_score = smith_waterman_alignment_score(seq1, seq2, 1, -1, -1,-1)\n",
        "\n",
        "          # Assume symmetry\n",
        "          similarity_matrix[i][j] = similarity_matrix[j][i] = alignment_score\n",
        "      #print(\"\\n\",k)\n",
        "      k+=1\n",
        "\n",
        "  return similarity_matrix"
      ]
    },
    {
      "cell_type": "markdown",
      "metadata": {
        "id": "TWWFUuyCye8R"
      },
      "source": [
        "### **Printing the Similarity Matrix:**\n",
        "For computational efficiency, we sort the sequence objects in ascending order of their sequence values and get the top 250 sequences(out of the 5000 given). This ensures that the sequences which are smaller are used, which reduces the computational time.\n",
        "\n",
        "We then call the function to get the similarity matrix and print it."
      ]
    },
    {
      "cell_type": "code",
      "execution_count": null,
      "metadata": {
        "colab": {
          "base_uri": "https://localhost:8080/"
        },
        "id": "BkWyAWR-vL4o",
        "outputId": "622d61cc-6dbb-43b5-b96f-9caf1745a06d"
      },
      "outputs": [
        {
          "name": "stdout",
          "output_type": "stream",
          "text": [
            "Sorted Sequence:  AACKCDDEGPDIRTAPLTGTVDLGSCNAGWEKCASYYTIIADCCRKKK\n",
            "Taking  250 Sequences\n",
            "[[ 48.   4.   3. ...   3.   3.   3.]\n",
            " [  4.  80.   2. ...   3.   3.   3.]\n",
            " [  3.   2.  45. ...   3.   2.   3.]\n",
            " ...\n",
            " [  3.   3.   3. ... 284.   5.   4.]\n",
            " [  3.   3.   2. ...   5.  86.   6.]\n",
            " [  3.   3.   3. ...   4.   6. 186.]]\n"
          ]
        }
      ],
      "source": [
        "### Importing the FASTA file\n",
        "fasta_iterator = get_fasta_file()\n",
        "sequences = list(fasta_iterator)\n",
        "\n",
        "### Sorting the sequences in Ascending order and Taking the top 250 sequences\n",
        "sorted_seq = sorted(sequences, key=lambda sequence: sequence.seq)\n",
        "print(\"Sorted Sequence: \", sorted_seq[0].seq)\n",
        "top250_seq = sorted_seq[0:250]\n",
        "print(\"Taking \", len(top250_seq), \"Sequences\")\n",
        "num_sequences = len(top250_seq)\n",
        "\n",
        "### Pair-wise similarity matrix\n",
        "similarity_matrix = get_similarity_matrix(top250_seq, num_sequences)\n",
        "\n",
        "## Print the similarity matrix\n",
        "print(similarity_matrix)"
      ]
    },
    {
      "cell_type": "markdown",
      "metadata": {
        "id": "HznLp9oKyTTG"
      },
      "source": [
        "## Part 2: Implement an embedding into a 100-dimensional euclidean vector space"
      ]
    },
    {
      "cell_type": "markdown",
      "metadata": {
        "id": "7AxPgSdKpj9K"
      },
      "source": [
        "### **Embedding into a 100-d space:**\n",
        "\n",
        "After getting the Similarity Matrix, we get the first k-eigenvectors and eigenvalues(in this case first 100). So, what do the first k-eigenvectors stand for? Like all clustering algorithms, we must choose the number of clusters for our algorithm to find.\n",
        "\n",
        "Then, we do a Matrix Multiplication of the similarity matrix and the computed top k-eigenvectors. Due to this, the similarity matrix gets transformed into the 100d space defined by the calculated k-eigenvectors. Finally we return this result as an embedding_matrix.\n"
      ]
    },
    {
      "cell_type": "code",
      "execution_count": null,
      "metadata": {
        "id": "dDNzzIHcBQT9"
      },
      "outputs": [],
      "source": [
        "### Function to do embedding\n",
        "def get_embedding(similarity_matrix, num_dimensions=100):\n",
        "\n",
        "    ### Compute Eigenvalues and Eigenvectors of similarity matrix\n",
        "    eigenvalues, eigenvectors = np.linalg.eigh(similarity_matrix)\n",
        "\n",
        "    ### Sort Eigenvalues\n",
        "    sorted_indices = np.argsort(eigenvalues)[::-1]\n",
        "    top_eigenvalues = eigenvalues[sorted_indices][:num_dimensions]\n",
        "\n",
        "    ### Extract Eigenvectors\n",
        "    top_eigenvectors = eigenvectors[:, sorted_indices][:, :num_dimensions]\n",
        "\n",
        "    ### Form Embedding Matrix using Dot Product\n",
        "    embedding_matrix = np.dot(similarity_matrix, top_eigenvectors)\n",
        "\n",
        "    return embedding_matrix"
      ]
    },
    {
      "cell_type": "code",
      "execution_count": null,
      "metadata": {
        "colab": {
          "base_uri": "https://localhost:8080/"
        },
        "id": "Lc8Sg7MOEg2F",
        "outputId": "0d7b8172-b3c8-4932-fdda-00ad7fade567"
      },
      "outputs": [
        {
          "name": "stdout",
          "output_type": "stream",
          "text": [
            "[[-1.92150937e+01  3.18304207e+01 -4.51358187e+00 ... -9.64705845e-01\n",
            "  -6.20047342e-01  1.80334938e+00]\n",
            " [-2.10952741e+01  3.22535660e+01 -4.74864587e+00 ... -7.35705452e-01\n",
            "   2.23203270e+00 -1.46672328e+00]\n",
            " [-1.71902700e+01  2.92446028e+01 -3.02794428e+00 ...  1.11449501e+00\n",
            "  -1.32588048e+00 -4.28698868e+00]\n",
            " ...\n",
            " [-2.68815265e+01  4.32029452e+01 -7.68936076e+00 ... -5.72242379e-03\n",
            "   1.65809321e-01  3.01997411e-01]\n",
            " [-2.15123580e+01  2.96911178e+01 -6.84675821e+00 ...  2.01830481e+00\n",
            "   5.87557856e-01 -5.58509778e-01]\n",
            " [-2.26318624e+01  3.77595997e+01 -7.83863457e+00 ...  2.43191266e-01\n",
            "   6.09600441e-01  8.30145011e-03]]\n",
            "(250, 100)\n"
          ]
        }
      ],
      "source": [
        "### embedding_matrix = get_embedding(similarity_matrix)\n",
        "embedding_matrix = get_embedding(similarity_matrix)\n",
        "print(embedding_matrix)\n",
        "print(embedding_matrix.shape)"
      ]
    }
  ],
  "metadata": {
    "colab": {
      "collapsed_sections": [
        "QY-9fmWol2g6",
        "lQBt8qLLokfV",
        "0eG8GooArdMM",
        "nT8xZ3rEvOgX",
        "HznLp9oKyTTG"
      ],
      "provenance": []
    },
    "kernelspec": {
      "display_name": "Python 3",
      "name": "python3"
    },
    "language_info": {
      "codemirror_mode": {
        "name": "ipython",
        "version": 3
      },
      "file_extension": ".py",
      "mimetype": "text/x-python",
      "name": "python",
      "nbconvert_exporter": "python",
      "pygments_lexer": "ipython3",
      "version": "3.10.12"
    }
  },
  "nbformat": 4,
  "nbformat_minor": 0
}
