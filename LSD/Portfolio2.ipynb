{
 "cells": [
  {
   "cell_type": "markdown",
   "metadata": {},
   "source": [
    "Group 8 - Portfolio 2"
   ]
  },
  {
   "cell_type": "markdown",
   "metadata": {},
   "source": [
    "The second portfolio sheet is about a real-world scenario, where you should leverage your knowledge related to proximity functions to embed and further process given data.\n",
    "All exercises should be completed in order and the solution consists of python code and answers to questions."
   ]
  },
  {
   "cell_type": "markdown",
   "metadata": {},
   "source": [
    "Exercise1: ‘Data set’"
   ]
  },
  {
   "cell_type": "markdown",
   "metadata": {},
   "source": [
    "Create a data set import script\n",
    "\n",
    "• Load the protein sequence data set in the .fasta format. The numbers in the square brackets correspond to class labels.\n",
    "\n",
    "Hint: Search for the python package ‘biopython’"
   ]
  },
  {
   "cell_type": "code",
   "execution_count": 28,
   "metadata": {},
   "outputs": [],
   "source": [
    "from Bio import SeqIO\n",
    "import pandas as pd"
   ]
  },
  {
   "cell_type": "code",
   "execution_count": 29,
   "metadata": {},
   "outputs": [],
   "source": [
    "#Extracting the data from the .fasta file into a list \n",
    "protein_sequences = list(SeqIO.parse(\"protein_sequence.fasta\", \"fasta\")) \n",
    "\n",
    "ids = []\n",
    "sequences = []\n",
    "\n",
    "for protein_sequence in protein_sequences:\n",
    "\n",
    "    description = protein_sequence.description \n",
    "\n",
    "    #Description contains everything apart from the protein_sequence ie, Q5AV81 [16491]\n",
    "    #As class labels are within [], extracting this data explicitly as the id\n",
    "\n",
    "    label_start = description.find('[') + 1\n",
    "    label_end = description.find(']')\n",
    "    \n",
    "    if label_start != -1 and label_end != -1:\n",
    "\n",
    "        label = description[label_start:label_end]\n",
    "        protein_sequence.id = label\n",
    "        \n",
    "        ids.append(protein_sequence.id)\n",
    "        sequences.append(str(protein_sequence.seq))"
   ]
  },
  {
   "cell_type": "code",
   "execution_count": 30,
   "metadata": {},
   "outputs": [
    {
     "data": {
      "text/html": [
       "<div>\n",
       "<style scoped>\n",
       "    .dataframe tbody tr th:only-of-type {\n",
       "        vertical-align: middle;\n",
       "    }\n",
       "\n",
       "    .dataframe tbody tr th {\n",
       "        vertical-align: top;\n",
       "    }\n",
       "\n",
       "    .dataframe thead th {\n",
       "        text-align: right;\n",
       "    }\n",
       "</style>\n",
       "<table border=\"1\" class=\"dataframe\">\n",
       "  <thead>\n",
       "    <tr style=\"text-align: right;\">\n",
       "      <th></th>\n",
       "      <th>Protein id</th>\n",
       "      <th>Protein Sequence</th>\n",
       "    </tr>\n",
       "  </thead>\n",
       "  <tbody>\n",
       "    <tr>\n",
       "      <th>0</th>\n",
       "      <td>16491</td>\n",
       "      <td>MVRIFITGSSDGIGQAAAKVLSEQGHSVVLHARNADRAASAQEAVP...</td>\n",
       "    </tr>\n",
       "    <tr>\n",
       "      <th>1</th>\n",
       "      <td>16491</td>\n",
       "      <td>MTHALDTLALNQLFTEARTHNAWRDEPVAPELLRQLHELAKWGPTA...</td>\n",
       "    </tr>\n",
       "    <tr>\n",
       "      <th>2</th>\n",
       "      <td>90729</td>\n",
       "      <td>MKIVLVFVCTLYLAQATYLSEQDVNEVSEFLEALDQANEAASEMVE...</td>\n",
       "    </tr>\n",
       "    <tr>\n",
       "      <th>3</th>\n",
       "      <td>3677</td>\n",
       "      <td>MIALSVCWQIVRYLCRIRQMXGLNAIEHSNYLRNYMGHLRQKLEQD...</td>\n",
       "    </tr>\n",
       "    <tr>\n",
       "      <th>4</th>\n",
       "      <td>4867</td>\n",
       "      <td>NKTNLKQLKAEAARKKAXMQDMXTSVKVEPLXAXXNGAXRM</td>\n",
       "    </tr>\n",
       "    <tr>\n",
       "      <th>...</th>\n",
       "      <td>...</td>\n",
       "      <td>...</td>\n",
       "    </tr>\n",
       "    <tr>\n",
       "      <th>4995</th>\n",
       "      <td>46872</td>\n",
       "      <td>MSKVTFRADDDLVAAVEDLDASKSEVMRNALRAYLTTHAAADDVPV...</td>\n",
       "    </tr>\n",
       "    <tr>\n",
       "      <th>4996</th>\n",
       "      <td>5509</td>\n",
       "      <td>MDLRQFLMCLSLCTAFALSKPTEKKDRVHHEPQLSDKVHNDAQSFD...</td>\n",
       "    </tr>\n",
       "    <tr>\n",
       "      <th>4997</th>\n",
       "      <td>46872</td>\n",
       "      <td>MAYRDQPLGELALSIPRASALFRQYDMDYCCGGKQTLARAAARHDV...</td>\n",
       "    </tr>\n",
       "    <tr>\n",
       "      <th>4998</th>\n",
       "      <td>3723</td>\n",
       "      <td>MKEYQVYLERARSRQQDFLYPLIFREYIYGLAYSHNWNRSIFVENG...</td>\n",
       "    </tr>\n",
       "    <tr>\n",
       "      <th>4999</th>\n",
       "      <td>46872</td>\n",
       "      <td>MSIMDHSPTTGVVTVIVILIAIAALGALILGCWCYLRLQRISQSED...</td>\n",
       "    </tr>\n",
       "  </tbody>\n",
       "</table>\n",
       "<p>5000 rows × 2 columns</p>\n",
       "</div>"
      ],
      "text/plain": [
       "     Protein id                                   Protein Sequence\n",
       "0         16491  MVRIFITGSSDGIGQAAAKVLSEQGHSVVLHARNADRAASAQEAVP...\n",
       "1         16491  MTHALDTLALNQLFTEARTHNAWRDEPVAPELLRQLHELAKWGPTA...\n",
       "2         90729  MKIVLVFVCTLYLAQATYLSEQDVNEVSEFLEALDQANEAASEMVE...\n",
       "3          3677  MIALSVCWQIVRYLCRIRQMXGLNAIEHSNYLRNYMGHLRQKLEQD...\n",
       "4          4867          NKTNLKQLKAEAARKKAXMQDMXTSVKVEPLXAXXNGAXRM\n",
       "...         ...                                                ...\n",
       "4995      46872  MSKVTFRADDDLVAAVEDLDASKSEVMRNALRAYLTTHAAADDVPV...\n",
       "4996       5509  MDLRQFLMCLSLCTAFALSKPTEKKDRVHHEPQLSDKVHNDAQSFD...\n",
       "4997      46872  MAYRDQPLGELALSIPRASALFRQYDMDYCCGGKQTLARAAARHDV...\n",
       "4998       3723  MKEYQVYLERARSRQQDFLYPLIFREYIYGLAYSHNWNRSIFVENG...\n",
       "4999      46872  MSIMDHSPTTGVVTVIVILIAIAALGALILGCWCYLRLQRISQSED...\n",
       "\n",
       "[5000 rows x 2 columns]"
      ]
     },
     "execution_count": 30,
     "metadata": {},
     "output_type": "execute_result"
    }
   ],
   "source": [
    "df = pd.DataFrame({'Protein id': ids, 'Protein Sequence': sequences}) #coverting to a dataframe for better processing\n",
    "\n",
    "df"
   ]
  }
 ],
 "metadata": {
  "kernelspec": {
   "display_name": "Python 3",
   "language": "python",
   "name": "python3"
  },
  "language_info": {
   "codemirror_mode": {
    "name": "ipython",
    "version": 3
   },
   "file_extension": ".py",
   "mimetype": "text/x-python",
   "name": "python",
   "nbconvert_exporter": "python",
   "pygments_lexer": "ipython3",
   "version": "3.12.0"
  }
 },
 "nbformat": 4,
 "nbformat_minor": 2
}
