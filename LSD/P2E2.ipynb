{
  "nbformat": 4,
  "nbformat_minor": 0,
  "metadata": {
    "colab": {
      "provenance": []
    },
    "kernelspec": {
      "name": "python3",
      "display_name": "Python 3"
    },
    "language_info": {
      "name": "python"
    }
  },
  "cells": [
    {
      "cell_type": "code",
      "source": [
        "from google.colab import drive\n",
        "drive.mount('/content/drive/')"
      ],
      "metadata": {
        "colab": {
          "base_uri": "https://localhost:8080/"
        },
        "id": "4-WmKITL1fJo",
        "outputId": "42cec5a7-9e8f-42b0-a0cf-e94da5a8f6ba"
      },
      "execution_count": null,
      "outputs": [
        {
          "output_type": "stream",
          "name": "stdout",
          "text": [
            "Mounted at /content/drive/\n"
          ]
        }
      ]
    },
    {
      "cell_type": "code",
      "source": [
        "pip install biopython"
      ],
      "metadata": {
        "colab": {
          "base_uri": "https://localhost:8080/"
        },
        "id": "x076YlFN3Jtd",
        "outputId": "d62248fc-962e-4c98-f275-3a890632ec99"
      },
      "execution_count": null,
      "outputs": [
        {
          "output_type": "stream",
          "name": "stdout",
          "text": [
            "Collecting biopython\n",
            "  Downloading biopython-1.81-cp310-cp310-manylinux_2_17_x86_64.manylinux2014_x86_64.whl (3.1 MB)\n",
            "\u001b[?25l     \u001b[90m━━━━━━━━━━━━━━━━━━━━━━━━━━━━━━━━━━━━━━━━\u001b[0m \u001b[32m0.0/3.1 MB\u001b[0m \u001b[31m?\u001b[0m eta \u001b[36m-:--:--\u001b[0m\r\u001b[2K     \u001b[91m╸\u001b[0m\u001b[90m━━━━━━━━━━━━━━━━━━━━━━━━━━━━━━━━━━━━━━━\u001b[0m \u001b[32m0.0/3.1 MB\u001b[0m \u001b[31m1.5 MB/s\u001b[0m eta \u001b[36m0:00:03\u001b[0m\r\u001b[2K     \u001b[91m━━━━━━━━\u001b[0m\u001b[90m╺\u001b[0m\u001b[90m━━━━━━━━━━━━━━━━━━━━━━━━━━━━━━━\u001b[0m \u001b[32m0.6/3.1 MB\u001b[0m \u001b[31m10.4 MB/s\u001b[0m eta \u001b[36m0:00:01\u001b[0m\r\u001b[2K     \u001b[91m━━━━━━━━━━━━━━━━━━━━━━━━━━━━━━━━━━━━━━━\u001b[0m\u001b[91m╸\u001b[0m \u001b[32m3.1/3.1 MB\u001b[0m \u001b[31m33.8 MB/s\u001b[0m eta \u001b[36m0:00:01\u001b[0m\r\u001b[2K     \u001b[90m━━━━━━━━━━━━━━━━━━━━━━━━━━━━━━━━━━━━━━━━\u001b[0m \u001b[32m3.1/3.1 MB\u001b[0m \u001b[31m26.9 MB/s\u001b[0m eta \u001b[36m0:00:00\u001b[0m\n",
            "\u001b[?25hRequirement already satisfied: numpy in /usr/local/lib/python3.10/dist-packages (from biopython) (1.23.5)\n",
            "Installing collected packages: biopython\n",
            "Successfully installed biopython-1.81\n"
          ]
        }
      ]
    },
    {
      "cell_type": "code",
      "execution_count": null,
      "metadata": {
        "colab": {
          "base_uri": "https://localhost:8080/"
        },
        "id": "9RYRrymA1GEM",
        "outputId": "35c0f924-4b40-4a43-baba-053604f33324"
      },
      "outputs": [
        {
          "output_type": "stream",
          "name": "stderr",
          "text": [
            "/usr/local/lib/python3.10/dist-packages/Bio/pairwise2.py:278: BiopythonDeprecationWarning: Bio.pairwise2 has been deprecated, and we intend to remove it in a future release of Biopython. As an alternative, please consider using Bio.Align.PairwiseAligner as a replacement, and contact the Biopython developers if you still need the Bio.pairwise2 module.\n",
            "  warnings.warn(\n"
          ]
        }
      ],
      "source": [
        "from Bio import pairwise2\n",
        "from Bio.pairwise2 import format_alignment\n",
        "from Bio import SeqIO\n",
        "from Bio import pairwise2\n",
        "import numpy as np\n",
        "import pandas as pd\n",
        "\n",
        "### Calculating Smith-Waterman alignment score\n",
        "def smith_waterman_alignment_score(seq1, seq2, match_score=2, mismatch_penalty=-1, gap_open_penalty=-1, gap_extend_penalty=-1):\n",
        "\n",
        "    # The pairwise2.align.localms() function for local sequence alignment\n",
        "    alignments = pairwise2.align.localms(seq1, seq2, match_score, mismatch_penalty, gap_open_penalty, gap_extend_penalty)\n",
        "    best_alignment = max(alignments, key = lambda x: x.score)\n",
        "\n",
        "    return best_alignment.score       #Return the best alignment"
      ]
    },
    {
      "cell_type": "code",
      "source": [
        "### Pair-wise similarity matrix\n",
        "def get_similarity_matrix(sequences, num_sequences):\n",
        "\n",
        "  similarity_matrix = np.zeros((num_sequences,num_sequences))\n",
        "  for i in range(num_sequences):\n",
        "      for j in range(i, num_sequences):\n",
        "          seq1 = sequences[i].seq\n",
        "          seq2 = sequences[j].seq\n",
        "          alignment_score = smith_waterman_alignment_score(seq1, seq2)\n",
        "\n",
        "          # Assume symmetry\n",
        "          similarity_matrix[i][j] = similarity_matrix[j][i] = alignment_score\n",
        "\n",
        "  return similarity_matrix"
      ],
      "metadata": {
        "id": "xIJC8n5e1KZc"
      },
      "execution_count": null,
      "outputs": []
    },
    {
      "cell_type": "code",
      "source": [
        "### Importing the FASTA file\n",
        "fasta_file_path = \"/content/drive/MyDrive/Colab Notebooks/LSD/sequences.fasta\"\n",
        "fasta_iterator = SeqIO.parse(fasta_file_path, \"fasta\")\n",
        "sequences = list(fasta_iterator)\n",
        "sorted_seq = sorted(sequences, key=lambda sequence: sequence.seq)\n",
        "top100_seq = sorted_seq[0:100]\n",
        "num_sequences = len(top100_seq)\n",
        "\n",
        "### Pair-wise similarity matrix\n",
        "similarity_matrix = get_similarity_matrix(top100_seq, num_sequences)\n",
        "\n",
        "## Print the similarity matrix\n",
        "print(similarity_matrix)"
      ],
      "metadata": {
        "colab": {
          "base_uri": "https://localhost:8080/"
        },
        "id": "BrwInfqb1NFP",
        "outputId": "6d9762d6-b0be-4aa7-891b-1e59a8653b2a"
      },
      "execution_count": null,
      "outputs": [
        {
          "output_type": "stream",
          "name": "stdout",
          "text": [
            "[[ 96.   9.   6. ...   6.   9.   4.]\n",
            " [  9. 160.   6. ...   8.   8.   5.]\n",
            " [  6.   6.  90. ...   6.   6.   4.]\n",
            " ...\n",
            " [  6.   8.   6. ... 166.   8.   5.]\n",
            " [  9.   8.   6. ...   8. 308.   7.]\n",
            " [  4.   5.   4. ...   5.   7.  20.]]\n"
          ]
        }
      ]
    }
  ]
}