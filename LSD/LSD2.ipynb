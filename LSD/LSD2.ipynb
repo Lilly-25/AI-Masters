{
 "cells": [
  {
   "cell_type": "markdown",
   "metadata": {},
   "source": [
    "## Portfolio 2\n",
    "\n",
    "Esther Ademola, 5122738 \n",
    "\n",
    "Nehmiya Shikur, 5122709\n",
    "\n",
    "Fatima Mohamed, 5122720\n",
    "\n",
    "Vinai George Biju, 5122714\n",
    "\n",
    "Muhammad Zakriya Shah Sarwar, 5122715"
   ]
  },
  {
   "cell_type": "code",
   "execution_count": null,
   "metadata": {},
   "outputs": [],
   "source": [
    "import numpy as np\n",
    "import matplotlib.pyplot as plt\n",
    "import  Bio as bio\n",
    "from Bio import SeqIO\n",
    "from Bio import Align\n",
    "import umap\n",
    "from sklearn import preprocessing\n",
    "import time"
   ]
  },
  {
   "cell_type": "markdown",
   "metadata": {},
   "source": [
    "### Exercise 1: Dataset\n",
    "• Load the protein sequence data set in the .fasta format. The numbers in the square\n",
    "brackets correspond to class labels.\n",
    "\n",
    "\n",
    "• Utilize the Smith-Waterman algorithm to calculate an alignment score for two\n",
    "sequences"
   ]
  },
  {
   "cell_type": "code",
   "execution_count": 2,
   "metadata": {},
   "outputs": [],
   "source": [
    "# Function for the loading of the sequence and label from a file\n",
    "def get_label(string):\n",
    "    # Iterate thriugh the sequence id and separate the label number present in square brackets\n",
    "    j=0\n",
    "    for i in string:\n",
    "        if i=='[':\n",
    "            first_index = j\n",
    "        if i==']':\n",
    "            last_index = j\n",
    "        j=j+1\n",
    "    label = string[first_index+1:last_index]\n",
    "    return int(label)\n",
    "\n",
    "def seqAndLabels(seq):\n",
    "    labels.append(get_label(seq.description))\n",
    "    sequences.append(re.seq)\n"
   ]
  },
  {
   "cell_type": "code",
   "execution_count": 4,
   "metadata": {},
   "outputs": [
    {
     "data": {
      "text/plain": [
       "(5000, 5000)"
      ]
     },
     "execution_count": 4,
     "metadata": {},
     "output_type": "execute_result"
    }
   ],
   "source": [
    "# Loading of the sequences and the labels from the fasta file\n",
    "global labels\n",
    "global sequences\n",
    "protein = SeqIO.parse('protein.fasta','fasta')\n",
    "\n",
    "labels=[]\n",
    "sequences=[]\n",
    "\n",
    "for re in protein:\n",
    "    seqAndLabels(re)\n",
    "\n",
    "len(labels),len(sequences)"
   ]
  },
  {
   "cell_type": "code",
   "execution_count": 5,
   "metadata": {},
   "outputs": [],
   "source": [
    "# Smith-Waterman aligner\n",
    "aligner = Align.PairwiseAligner(match_score=1,mismatch_score=-1,gap_score=-2)\n",
    "aligner.mode = \"local\""
   ]
  },
  {
   "cell_type": "code",
   "execution_count": 6,
   "metadata": {},
   "outputs": [
    {
     "data": {
      "text/plain": [
       "4.0"
      ]
     },
     "execution_count": 6,
     "metadata": {},
     "output_type": "execute_result"
    }
   ],
   "source": [
    "\"\"\"Utilizing the Smith-Waterman algorithm to calculate an alignment score for two sequences\"\"\"\n",
    "aligner.score(sequences[0],sequences[10])"
   ]
  },
  {
   "cell_type": "markdown",
   "metadata": {},
   "source": [
    "### Exercise 2: Embedding\n",
    "Use the loaded data to embed the protein sequences into a 100-dimensional vector space.\n",
    "Use the 100 largest eigenvalues for the embedding.\n",
    "\n",
    "• Construct a pair-wise similarity matrix using the Smith-Waterman alignment\n",
    "\n",
    "• Implement an embedding into a 100-dimensional euclidean vector space\n",
    "Use the loaded data to embed the protein sequences into a 100-dimensional vector space.\n",
    "\n"
   ]
  },
  {
   "cell_type": "code",
   "execution_count": 6,
   "metadata": {},
   "outputs": [],
   "source": [
    "\"\"\"\n",
    "Smith-Waterman alignment used in calculating the the pairwise similarity matrix (matrix containing\n",
    "the alignment score for every pair of sequences)\n",
    "\"\"\"\n",
    "s_matrix = np.zeros((5000,5000)) # Similarity matrix\n",
    "\n",
    "# Pairwise upper triangular similarity matrix, performed to reduced the computational time as opposed to calculating the full similarity matrix\n",
    "tb = time.time()\n",
    "for i in range(0):\n",
    "    for j in range(i,5000):\n",
    "        s_matrix[i,j] = aligner.score(sequences[i],sequences[j])\n",
    "        print(j,labels[j],s_matrix[i,j])\n",
    "    if i%100==0:\n",
    "        print(i,(time.time()-tb)/60)\n",
    "\n",
    "np.save('5000x5000112.npy',s_matrix)        \n",
    "pass"
   ]
  },
  {
   "cell_type": "code",
   "execution_count": 8,
   "metadata": {},
   "outputs": [],
   "source": [
    "# Conversion of upper traingular matrix to a full matrix due to the approximate symmetry of the Smith-Waterman algorithm\n",
    "s_matrix = np.load('matrix5000_5000112.npy')\n",
    "\n",
    "s_matrix = s_matrix+s_matrix.T\n",
    "s_matrix[np.diag_indices_from(s_matrix)]/=2\n",
    "\n",
    "# Normalisation of the similarity matrix\n",
    "sum_columns = np.sum(s_matrix,axis=0)\n",
    "sm = s_matrix/sum_columns     \n"
   ]
  },
  {
   "cell_type": "code",
   "execution_count": 9,
   "metadata": {},
   "outputs": [],
   "source": [
    "# Eigenvalue decomposition of the pairwise similarity matrix\n",
    "# w -> eigenwalues, v -> eigenvectors\n",
    "w,v = np.linalg.eig(s_matrix)"
   ]
  },
  {
   "cell_type": "code",
   "execution_count": null,
   "metadata": {},
   "outputs": [],
   "source": [
    "# Sorting of the eigenvalues in descending order with their respective eigenvectors\n",
    "index = np.arange(5000)\n",
    "values,index = (list(t) for t in zip(*sorted(zip(w,index),reverse=True)))\n",
    "\n",
    "# Selection of the 100 largest eigenvalues and their respective eigenvectors for embedding into a 100-dimensional euclidean vector space\n",
    "ascval = np.zeros((100,100))\n",
    "ascvec = np.zeros((5000,100))\n",
    "for i in range(0,100):\n",
    "    ascval[i,i] = values[i]\n",
    "    ascvec[:,i] = v[:,index[i]]\n",
    "\n"
   ]
  },
  {
   "cell_type": "code",
   "execution_count": 11,
   "metadata": {},
   "outputs": [
    {
     "data": {
      "text/plain": [
       "(5000, 100)"
      ]
     },
     "execution_count": 11,
     "metadata": {},
     "output_type": "execute_result"
    }
   ],
   "source": [
    "# Calculation of the embedding in a 100-dimensional space via the eigenvalue decomposition of the pairwise alignment matrix \n",
    "ascval = np.sqrt(np.abs(ascval))*np.eye(100)\n",
    "V = ascvec @ ascval\n",
    "E = (V.T @ sm).T  # Embedded matrix\n",
    "E.shape\n"
   ]
  },
  {
   "cell_type": "markdown",
   "metadata": {},
   "source": [
    "### Exercise 3: Evaluation\n",
    "(Embedding) Using U-Map to visualize the data in 2-D and color the points / nodes based on the label assignments. Please save the plot.\n",
    "\n",
    "#### UMAP \n",
    "\n",
    "A dimensionality reduction method called Uniform manifold Approximation and Projection (UMAP) is utilized for generic non-linear dimension reduction as well as visualisation. \n",
    "\n",
    "k_neighbors parameter builds the weighted k-neighbour graph \n",
    "\n",
    "\n",
    "min_dist parameter specifies the distance to the nearest neighbor of X.\n",
    "\n",
    "\n",
    "n_components parameter updates the manifold to be broken to smaller connected components."
   ]
  },
  {
   "cell_type": "code",
   "execution_count": 12,
   "metadata": {},
   "outputs": [],
   "source": [
    "uni = np.unique(labels)\n",
    "label_int = []\n",
    "for i in range(5000):\n",
    "    for j in range(15):\n",
    "        if labels[i] == uni[j]:\n",
    "            label_int.append(j)\n"
   ]
  },
  {
   "cell_type": "code",
   "execution_count": 13,
   "metadata": {},
   "outputs": [],
   "source": [
    "reducer = umap.UMAP(n_neighbors=333,min_dist=1,n_components=2)\n",
    "emb = reducer.fit_transform(E)"
   ]
  },
  {
   "cell_type": "code",
   "execution_count": 14,
   "metadata": {
    "scrolled": false
   },
   "outputs": [
    {
     "data": {
      "image/png": "[encoded data removed]",
      "text/plain": [
       "<Figure size 640x480 with 2 Axes>"
      ]
     },
     "metadata": {},
     "output_type": "display_data"
    }
   ],
   "source": [
    "plt.scatter(emb[:,0],emb[:,1],c=label_int,cmap='Spectral', s=10)\n",
    "plt.colorbar(boundaries=np.arange(15)).set_ticks(np.arange(15))"
   ]
  }
 ],
 "metadata": {
  "kernelspec": {
   "display_name": "Python 3 (ipykernel)",
   "language": "python",
   "name": "python3"
  },
  "language_info": {
   "codemirror_mode": {
    "name": "ipython",
    "version": 3
   },
   "file_extension": ".py",
   "mimetype": "text/x-python",
   "name": "python",
   "nbconvert_exporter": "python",
   "pygments_lexer": "ipython3",
   "version": "3.10.8"
  },
  "vscode": {
   "interpreter": {
    "hash": "97e28608bd83c5d7964221aa15b3077802576866ac363c52738064bd33e08f47"
   }
  }
 },
 "nbformat": 4,
 "nbformat_minor": 2
}
