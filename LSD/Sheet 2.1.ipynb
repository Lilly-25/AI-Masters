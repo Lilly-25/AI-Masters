{
 "cells": [
  {
   "cell_type": "markdown",
   "id": "ba82f913",
   "metadata": {},
   "source": [
    "### Importing Dependencies "
   ]
  },
  {
   "cell_type": "code",
   "execution_count": 271,
   "id": "63a46627",
   "metadata": {},
   "outputs": [],
   "source": [
    "from Bio import Align #smith waterman algorithm\n",
    "from Bio import SeqIO #Fetching data from file\n",
    "import numpy as np #Matrix operations\n",
    "import matplotlib.pyplot as plt #Plotting\n",
    "import umap    #UMAP\n",
    "from sklearn.preprocessing import StandardScaler #Pre processing data"
   ]
  },
  {
   "cell_type": "markdown",
   "id": "1f1ad85b",
   "metadata": {},
   "source": [
    "### Excercise 1: Data set "
   ]
  },
  {
   "cell_type": "markdown",
   "id": "aa52c38d",
   "metadata": {},
   "source": [
    "#### Fetching Data and labels from the .fasta file "
   ]
  },
  {
   "cell_type": "code",
   "execution_count": 10,
   "id": "5248fa34",
   "metadata": {},
   "outputs": [],
   "source": [
    "Sequences =[]\n",
    "description =[]\n",
    "with open(\"data.fasta\") as handle:\n",
    "    count =0\n",
    "    for record in SeqIO.parse(handle, \"fasta\"):\n",
    "        description.append(record.description)\n",
    "        Sequences.append(record.seq)\n",
    "        count+=1    \n",
    "\n",
    "#Extracting Lables in '[]' from the Description \n",
    "labels =[]\n",
    "for i in description:\n",
    "    get = False\n",
    "    label =''\n",
    "    for c in i:\n",
    "        if (c == ']'):get = False    \n",
    "        if get: label+=c\n",
    "        if (c == '['):get = True    \n",
    "    labels.append(int(label))        "
   ]
  },
  {
   "cell_type": "markdown",
   "id": "356fa370",
   "metadata": {},
   "source": [
    "#### Calculating Local alignment score using Smith waterman alignment "
   ]
  },
  {
   "cell_type": "code",
   "execution_count": 11,
   "id": "ee12e964",
   "metadata": {},
   "outputs": [],
   "source": [
    "def alignment_score(s1,s2,match_score = 1,mismatch_score = -1, gap_penalty = -2):\n",
    "    aligner = Align.PairwiseAligner()\n",
    "    aligner.mode = 'local'\n",
    "    aligner.match_score = match_score\n",
    "    aligner.mismatch_score = mismatch_score\n",
    "    aligner.open_gap_score = gap_penalty\n",
    "    alignments = aligner.align(s1,s2)\n",
    "    return alignments.score"
   ]
  },
  {
   "cell_type": "code",
   "execution_count": 12,
   "id": "c10d3031",
   "metadata": {},
   "outputs": [
    {
     "name": "stdout",
     "output_type": "stream",
     "text": [
      "The alignment score between sequence 1 and 2 is:  5.0\n"
     ]
    }
   ],
   "source": [
    "#rewards and penalties\n",
    "match_score = 1\n",
    "mismatch_score = -1\n",
    "gap_penalty = -2\n",
    "\n",
    "#calculating alignment scores between Sequence 2 and 3\n",
    "seq1 = 1\n",
    "seq2 = 2\n",
    "Score = alignment_score(Sequences[seq1-1],Sequences[seq2-1],match_score ,mismatch_score, gap_penalty)\n",
    "print(\"The alignment score between sequence\", seq1, \"and\", seq2,\"is: \", Score)"
   ]
  },
  {
   "cell_type": "markdown",
   "id": "c83d8bfa",
   "metadata": {},
   "source": [
    "### Excercise 2: Embedding "
   ]
  },
  {
   "cell_type": "markdown",
   "id": "cf82d948",
   "metadata": {},
   "source": [
    "#### Constructing Pairwise similarity matrix"
   ]
  },
  {
   "cell_type": "code",
   "execution_count": 272,
   "id": "727f518d",
   "metadata": {},
   "outputs": [],
   "source": [
    "similarity_matrix = np.zeros((len(Sequences),len(Sequences)))\n",
    "for i in range(similarity_matrix.shape[0]):\n",
    "    for j in range(i,similarity_matrix.shape[1]):\n",
    "        pass#similarity_matrix[i][j] = alignment_score(Sequences[i],Sequences[j])\n",
    "similarity_matrix = np.load('Similarity_Matrix.npy') \n",
    "\n",
    "# Normalizing Similarity Matrix\n",
    "row_sums = similarity_matrix.sum(axis=1)\n",
    "similarity_matrix /=  row_sums[:, np.newaxis]"
   ]
  },
  {
   "cell_type": "markdown",
   "id": "a695e0d5",
   "metadata": {},
   "source": [
    "#### Euclidean Embedding (100 Dimension) "
   ]
  },
  {
   "cell_type": "code",
   "execution_count": 218,
   "id": "3b194db2",
   "metadata": {},
   "outputs": [],
   "source": [
    "#Calculating Eigen values and Eigen vectors of similarity_matrix\n",
    "eigval,eigvec = np.linalg.eig(similarity_matrix)\n",
    "eigval = abs(eigval)\n",
    "eigvec = abs(eigvec)\n",
    "#Considering largest 100 eigen values for embedding \n",
    "#Sorting eigen values and eigen vectors\n",
    "index =[x for x in range(5000)]\n",
    "eigvalsort,index_sort = (list(t) for t in zip(*sorted(zip(eigval,index),reverse= True)))\n",
    "eigvecsort = []\n",
    "for i in index_sort:\n",
    "    eigvecsort.append(eigvec[:,i])\n",
    "eigvecsort = np.array(eigvecsort).T \n",
    "\n",
    "#Considering largest 100 eigen values for embedding \n",
    "U  =  eigvecsort[:,:100]\n",
    "\n",
    "Lambda = abs(np.array(eigvalsort[:100]))**(-0.5)\n",
    "dell = Lambda*np.eye(len(Lambda))\n",
    "V = U@dell\n",
    "X = np.dot(similarity_matrix,V)"
   ]
  },
  {
   "cell_type": "markdown",
   "id": "4a28b91f",
   "metadata": {},
   "source": [
    "### Excercise 3: Plotting"
   ]
  },
  {
   "cell_type": "markdown",
   "id": "fa7c4957",
   "metadata": {},
   "source": [
    "#### UMAP Implementation "
   ]
  },
  {
   "cell_type": "markdown",
   "id": "58e8c117",
   "metadata": {},
   "source": [
    "#### UMAP\n",
    "Uniform Manifold Approximation and Projection (UMAP) is a dimensionality reduction technique for non-Linear data.\n",
    "\n",
    "##### Parameters for UMAP\n",
    "* n_neighbour: The number of approximate nearest neighbours which is used to construct the initial high-dimensional graph.Since the total Sequences (5000) has 15 classes, the expected neighbours for each cluster is 333 (5000/15).\n",
    "\n",
    "\n",
    "* min_dist: The minimum distance between points in low-dimensional space,this parameter controls how tightly UMAP clumps points together. The min_dist of 1 is used to see some distinct clusters.\n",
    "\n",
    "\n",
    "* n_components: The dimension of the final output. Since 100 dimension data is reduced to 2 for plotting 2d graph, n_components is 2"
   ]
  },
  {
   "cell_type": "code",
   "execution_count": 268,
   "id": "cd213e3e",
   "metadata": {},
   "outputs": [],
   "source": [
    "reducer = umap.UMAP(n_neighbors =333, min_dist =1,n_components=2)\n",
    "embedding = reducer.fit_transform(X)"
   ]
  },
  {
   "cell_type": "code",
   "execution_count": 269,
   "id": "49689a0e",
   "metadata": {},
   "outputs": [],
   "source": [
    "#separating data point with respect to its labels\n",
    "D_labels = np.array(list(dict.fromkeys(labels)))\n",
    "t = [[],[],[],[],[],[],[],[],[],[],[],[],[],[],[],]\n",
    "for i in range(len(labels)):\n",
    "    index= np.where(D_labels == labels[i])[0][0]\n",
    "    if (index == 0):t[0].append(embedding[i])\n",
    "    elif (index == 1):t[1].append(embedding[i])\n",
    "    elif (index == 2):t[2].append(embedding[i])\n",
    "    elif (index == 3):t[3].append(embedding[i])\n",
    "    elif (index == 4):t[4].append(embedding[i])\n",
    "    elif (index == 5):t[5].append(embedding[i])\n",
    "    elif (index == 6):t[6].append(embedding[i])\n",
    "    elif (index == 7):t[7].append(embedding[i])\n",
    "    elif (index == 8):t[8].append(embedding[i])\n",
    "    elif (index == 9):t[9].append(embedding[i])\n",
    "    elif (index == 10):t[10].append(embedding[i])\n",
    "    elif (index == 11):t[11].append(embedding[i])\n",
    "    elif (index == 12):t[12].append(embedding[i])\n",
    "    elif (index == 13):t[13].append(embedding[i])\n",
    "    else:t[14].append(embedding[i])\n",
    "        \n",
    "def plot(t):\n",
    "    plt.scatter(np.array(t[0]).T[0],np.array(t[0]).T[1])\n",
    "    plt.scatter(np.array(t[1]).T[0],np.array(t[1]).T[1])\n",
    "    plt.scatter(np.array(t[2]).T[0],np.array(t[2]).T[1])\n",
    "    plt.scatter(np.array(t[3]).T[0],np.array(t[3]).T[1])\n",
    "    plt.scatter(np.array(t[4]).T[0],np.array(t[4]).T[1])\n",
    "    plt.scatter(np.array(t[5]).T[0],np.array(t[5]).T[1])\n",
    "    plt.scatter(np.array(t[6]).T[0],np.array(t[6]).T[1])\n",
    "    plt.scatter(np.array(t[7]).T[0],np.array(t[7]).T[1])\n",
    "    plt.scatter(np.array(t[8]).T[0],np.array(t[8]).T[1])\n",
    "    plt.scatter(np.array(t[9]).T[0],np.array(t[9]).T[1])\n",
    "    plt.scatter(np.array(t[10]).T[0],np.array(t[10]).T[1])\n",
    "    plt.scatter(np.array(t[11]).T[0],np.array(t[11]).T[1])\n",
    "    plt.scatter(np.array(t[12]).T[0],np.array(t[12]).T[1])\n",
    "    plt.scatter(np.array(t[13]).T[0],np.array(t[13]).T[1])\n",
    "    plt.scatter(np.array(t[14]).T[0],np.array(t[14]).T[1])\n",
    "    plt.title('Umap Representation of Protein Sequences')\n",
    "    plt.show()        "
   ]
  },
  {
   "cell_type": "markdown",
   "id": "07ee3a1f",
   "metadata": {},
   "source": [
    "#### Plotting"
   ]
  },
  {
   "cell_type": "code",
   "execution_count": 270,
   "id": "151f9cd6",
   "metadata": {},
   "outputs": [
    {
     "data": {
      "image/png": "[encoded data removed]",
      "text/plain": [
       "<Figure size 640x480 with 1 Axes>"
      ]
     },
     "metadata": {},
     "output_type": "display_data"
    }
   ],
   "source": [
    "plot(t)"
   ]
  }
 ],
 "metadata": {
  "kernelspec": {
   "display_name": "Python 3 (ipykernel)",
   "language": "python",
   "name": "python3"
  },
  "language_info": {
   "codemirror_mode": {
    "name": "ipython",
    "version": 3
   },
   "file_extension": ".py",
   "mimetype": "text/x-python",
   "name": "python",
   "nbconvert_exporter": "python",
   "pygments_lexer": "ipython3",
   "version": "3.9.12"
  }
 },
 "nbformat": 4,
 "nbformat_minor": 5
}
